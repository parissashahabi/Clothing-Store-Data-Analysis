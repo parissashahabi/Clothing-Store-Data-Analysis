{
 "cells": [
  {
   "cell_type": "markdown",
   "id": "6abb6316",
   "metadata": {},
   "source": [
    "a."
   ]
  },
  {
   "cell_type": "code",
   "execution_count": 1,
   "id": "3f7262ee",
   "metadata": {},
   "outputs": [
    {
     "data": {
      "text/html": [
       "<div>\n",
       "<style scoped>\n",
       "    .dataframe tbody tr th:only-of-type {\n",
       "        vertical-align: middle;\n",
       "    }\n",
       "\n",
       "    .dataframe tbody tr th {\n",
       "        vertical-align: top;\n",
       "    }\n",
       "\n",
       "    .dataframe thead th {\n",
       "        text-align: right;\n",
       "    }\n",
       "</style>\n",
       "<table border=\"1\" class=\"dataframe\">\n",
       "  <thead>\n",
       "    <tr style=\"text-align: right;\">\n",
       "      <th></th>\n",
       "      <th>item_id</th>\n",
       "      <th>category</th>\n",
       "      <th>size</th>\n",
       "      <th>quality</th>\n",
       "      <th>user_name</th>\n",
       "      <th>length</th>\n",
       "      <th>fit</th>\n",
       "      <th>cup size</th>\n",
       "      <th>user_id</th>\n",
       "      <th>waist</th>\n",
       "      <th>hips</th>\n",
       "      <th>bra size</th>\n",
       "      <th>bust</th>\n",
       "      <th>height</th>\n",
       "      <th>shoe size</th>\n",
       "      <th>shoe width</th>\n",
       "      <th>review_summary</th>\n",
       "      <th>review_text</th>\n",
       "    </tr>\n",
       "  </thead>\n",
       "  <tbody>\n",
       "    <tr>\n",
       "      <th>0</th>\n",
       "      <td>123373</td>\n",
       "      <td>new</td>\n",
       "      <td>21</td>\n",
       "      <td>5.0</td>\n",
       "      <td>alexmeyer626</td>\n",
       "      <td>just right</td>\n",
       "      <td>fit</td>\n",
       "      <td>dd/e</td>\n",
       "      <td>875643</td>\n",
       "      <td>NaN</td>\n",
       "      <td>NaN</td>\n",
       "      <td>NaN</td>\n",
       "      <td>NaN</td>\n",
       "      <td>NaN</td>\n",
       "      <td>NaN</td>\n",
       "      <td>NaN</td>\n",
       "      <td>NaN</td>\n",
       "      <td>NaN</td>\n",
       "    </tr>\n",
       "    <tr>\n",
       "      <th>1</th>\n",
       "      <td>123373</td>\n",
       "      <td>new</td>\n",
       "      <td>7</td>\n",
       "      <td>5.0</td>\n",
       "      <td>Emily</td>\n",
       "      <td>just right</td>\n",
       "      <td>small</td>\n",
       "      <td>d</td>\n",
       "      <td>991571</td>\n",
       "      <td>29.0</td>\n",
       "      <td>38.0</td>\n",
       "      <td>34.0</td>\n",
       "      <td>36</td>\n",
       "      <td>5ft 6in</td>\n",
       "      <td>NaN</td>\n",
       "      <td>NaN</td>\n",
       "      <td>NaN</td>\n",
       "      <td>NaN</td>\n",
       "    </tr>\n",
       "    <tr>\n",
       "      <th>2</th>\n",
       "      <td>123373</td>\n",
       "      <td>new</td>\n",
       "      <td>13</td>\n",
       "      <td>3.0</td>\n",
       "      <td>sydneybraden2001</td>\n",
       "      <td>just right</td>\n",
       "      <td>small</td>\n",
       "      <td>b</td>\n",
       "      <td>587883</td>\n",
       "      <td>31.0</td>\n",
       "      <td>30.0</td>\n",
       "      <td>36.0</td>\n",
       "      <td>NaN</td>\n",
       "      <td>5ft 2in</td>\n",
       "      <td>NaN</td>\n",
       "      <td>NaN</td>\n",
       "      <td>NaN</td>\n",
       "      <td>NaN</td>\n",
       "    </tr>\n",
       "    <tr>\n",
       "      <th>3</th>\n",
       "      <td>123373</td>\n",
       "      <td>new</td>\n",
       "      <td>7</td>\n",
       "      <td>2.0</td>\n",
       "      <td>Ugggh</td>\n",
       "      <td>slightly long</td>\n",
       "      <td>small</td>\n",
       "      <td>b</td>\n",
       "      <td>395665</td>\n",
       "      <td>30.0</td>\n",
       "      <td>NaN</td>\n",
       "      <td>32.0</td>\n",
       "      <td>NaN</td>\n",
       "      <td>5ft 7in</td>\n",
       "      <td>9.0</td>\n",
       "      <td>NaN</td>\n",
       "      <td>NaN</td>\n",
       "      <td>NaN</td>\n",
       "    </tr>\n",
       "    <tr>\n",
       "      <th>4</th>\n",
       "      <td>123373</td>\n",
       "      <td>new</td>\n",
       "      <td>18</td>\n",
       "      <td>5.0</td>\n",
       "      <td>dberrones1</td>\n",
       "      <td>slightly long</td>\n",
       "      <td>small</td>\n",
       "      <td>b</td>\n",
       "      <td>944840</td>\n",
       "      <td>NaN</td>\n",
       "      <td>NaN</td>\n",
       "      <td>36.0</td>\n",
       "      <td>NaN</td>\n",
       "      <td>5ft 2in</td>\n",
       "      <td>NaN</td>\n",
       "      <td>NaN</td>\n",
       "      <td>NaN</td>\n",
       "      <td>NaN</td>\n",
       "    </tr>\n",
       "  </tbody>\n",
       "</table>\n",
       "</div>"
      ],
      "text/plain": [
       "   item_id category  size  quality         user_name         length    fit  \\\n",
       "0   123373      new    21      5.0      alexmeyer626     just right    fit   \n",
       "1   123373      new     7      5.0             Emily     just right  small   \n",
       "2   123373      new    13      3.0  sydneybraden2001     just right  small   \n",
       "3   123373      new     7      2.0             Ugggh  slightly long  small   \n",
       "4   123373      new    18      5.0        dberrones1  slightly long  small   \n",
       "\n",
       "  cup size  user_id  waist  hips  bra size bust   height  shoe size  \\\n",
       "0     dd/e   875643    NaN   NaN       NaN  NaN      NaN        NaN   \n",
       "1        d   991571   29.0  38.0      34.0   36  5ft 6in        NaN   \n",
       "2        b   587883   31.0  30.0      36.0  NaN  5ft 2in        NaN   \n",
       "3        b   395665   30.0   NaN      32.0  NaN  5ft 7in        9.0   \n",
       "4        b   944840    NaN   NaN      36.0  NaN  5ft 2in        NaN   \n",
       "\n",
       "  shoe width review_summary review_text  \n",
       "0        NaN            NaN         NaN  \n",
       "1        NaN            NaN         NaN  \n",
       "2        NaN            NaN         NaN  \n",
       "3        NaN            NaN         NaN  \n",
       "4        NaN            NaN         NaN  "
      ]
     },
     "execution_count": 1,
     "metadata": {},
     "output_type": "execute_result"
    }
   ],
   "source": [
    "import pandas as pd\n",
    "import numpy as np\n",
    "import matplotlib.pyplot as plt\n",
    "import matplotlib\n",
    "\n",
    "data = pd.read_json(\"cloth_final_data.json\", lines=True)\n",
    "data.head()"
   ]
  },
  {
   "cell_type": "markdown",
   "id": "621e1697",
   "metadata": {},
   "source": [
    "b."
   ]
  },
  {
   "cell_type": "code",
   "execution_count": 2,
   "id": "3ce1e917",
   "metadata": {},
   "outputs": [
    {
     "data": {
      "text/html": [
       "<div>\n",
       "<style scoped>\n",
       "    .dataframe tbody tr th:only-of-type {\n",
       "        vertical-align: middle;\n",
       "    }\n",
       "\n",
       "    .dataframe tbody tr th {\n",
       "        vertical-align: top;\n",
       "    }\n",
       "\n",
       "    .dataframe thead th {\n",
       "        text-align: right;\n",
       "    }\n",
       "</style>\n",
       "<table border=\"1\" class=\"dataframe\">\n",
       "  <thead>\n",
       "    <tr style=\"text-align: right;\">\n",
       "      <th></th>\n",
       "      <th>item_id</th>\n",
       "      <th>size</th>\n",
       "      <th>quality</th>\n",
       "      <th>user_id</th>\n",
       "      <th>waist</th>\n",
       "      <th>hips</th>\n",
       "      <th>bra size</th>\n",
       "      <th>shoe size</th>\n",
       "    </tr>\n",
       "  </thead>\n",
       "  <tbody>\n",
       "    <tr>\n",
       "      <th>count</th>\n",
       "      <td>82790.000000</td>\n",
       "      <td>82790.000000</td>\n",
       "      <td>82722.000000</td>\n",
       "      <td>82790.000000</td>\n",
       "      <td>2882.000000</td>\n",
       "      <td>56064.000000</td>\n",
       "      <td>76772.000000</td>\n",
       "      <td>27915.000000</td>\n",
       "    </tr>\n",
       "    <tr>\n",
       "      <th>mean</th>\n",
       "      <td>469325.229170</td>\n",
       "      <td>12.661602</td>\n",
       "      <td>3.949058</td>\n",
       "      <td>498849.564718</td>\n",
       "      <td>31.319223</td>\n",
       "      <td>40.358501</td>\n",
       "      <td>35.972125</td>\n",
       "      <td>8.145818</td>\n",
       "    </tr>\n",
       "    <tr>\n",
       "      <th>std</th>\n",
       "      <td>213999.803314</td>\n",
       "      <td>8.271952</td>\n",
       "      <td>0.992783</td>\n",
       "      <td>286356.969459</td>\n",
       "      <td>5.302849</td>\n",
       "      <td>5.827166</td>\n",
       "      <td>3.224907</td>\n",
       "      <td>1.336109</td>\n",
       "    </tr>\n",
       "    <tr>\n",
       "      <th>min</th>\n",
       "      <td>123373.000000</td>\n",
       "      <td>0.000000</td>\n",
       "      <td>1.000000</td>\n",
       "      <td>6.000000</td>\n",
       "      <td>20.000000</td>\n",
       "      <td>30.000000</td>\n",
       "      <td>28.000000</td>\n",
       "      <td>5.000000</td>\n",
       "    </tr>\n",
       "    <tr>\n",
       "      <th>25%</th>\n",
       "      <td>314980.000000</td>\n",
       "      <td>8.000000</td>\n",
       "      <td>3.000000</td>\n",
       "      <td>252897.750000</td>\n",
       "      <td>28.000000</td>\n",
       "      <td>36.000000</td>\n",
       "      <td>34.000000</td>\n",
       "      <td>7.000000</td>\n",
       "    </tr>\n",
       "    <tr>\n",
       "      <th>50%</th>\n",
       "      <td>454030.000000</td>\n",
       "      <td>12.000000</td>\n",
       "      <td>4.000000</td>\n",
       "      <td>497913.500000</td>\n",
       "      <td>30.000000</td>\n",
       "      <td>39.000000</td>\n",
       "      <td>36.000000</td>\n",
       "      <td>8.000000</td>\n",
       "    </tr>\n",
       "    <tr>\n",
       "      <th>75%</th>\n",
       "      <td>658440.000000</td>\n",
       "      <td>15.000000</td>\n",
       "      <td>5.000000</td>\n",
       "      <td>744745.250000</td>\n",
       "      <td>34.000000</td>\n",
       "      <td>43.000000</td>\n",
       "      <td>38.000000</td>\n",
       "      <td>9.000000</td>\n",
       "    </tr>\n",
       "    <tr>\n",
       "      <th>max</th>\n",
       "      <td>807722.000000</td>\n",
       "      <td>38.000000</td>\n",
       "      <td>5.000000</td>\n",
       "      <td>999972.000000</td>\n",
       "      <td>50.000000</td>\n",
       "      <td>60.000000</td>\n",
       "      <td>48.000000</td>\n",
       "      <td>38.000000</td>\n",
       "    </tr>\n",
       "  </tbody>\n",
       "</table>\n",
       "</div>"
      ],
      "text/plain": [
       "             item_id          size       quality        user_id        waist  \\\n",
       "count   82790.000000  82790.000000  82722.000000   82790.000000  2882.000000   \n",
       "mean   469325.229170     12.661602      3.949058  498849.564718    31.319223   \n",
       "std    213999.803314      8.271952      0.992783  286356.969459     5.302849   \n",
       "min    123373.000000      0.000000      1.000000       6.000000    20.000000   \n",
       "25%    314980.000000      8.000000      3.000000  252897.750000    28.000000   \n",
       "50%    454030.000000     12.000000      4.000000  497913.500000    30.000000   \n",
       "75%    658440.000000     15.000000      5.000000  744745.250000    34.000000   \n",
       "max    807722.000000     38.000000      5.000000  999972.000000    50.000000   \n",
       "\n",
       "               hips      bra size     shoe size  \n",
       "count  56064.000000  76772.000000  27915.000000  \n",
       "mean      40.358501     35.972125      8.145818  \n",
       "std        5.827166      3.224907      1.336109  \n",
       "min       30.000000     28.000000      5.000000  \n",
       "25%       36.000000     34.000000      7.000000  \n",
       "50%       39.000000     36.000000      8.000000  \n",
       "75%       43.000000     38.000000      9.000000  \n",
       "max       60.000000     48.000000     38.000000  "
      ]
     },
     "execution_count": 2,
     "metadata": {},
     "output_type": "execute_result"
    }
   ],
   "source": [
    "data.describe()"
   ]
  },
  {
   "cell_type": "markdown",
   "id": "13a2833a",
   "metadata": {},
   "source": [
    "c."
   ]
  },
  {
   "cell_type": "code",
   "execution_count": 3,
   "id": "ab424e68",
   "metadata": {},
   "outputs": [
    {
     "data": {
      "text/html": [
       "<div>\n",
       "<style scoped>\n",
       "    .dataframe tbody tr th:only-of-type {\n",
       "        vertical-align: middle;\n",
       "    }\n",
       "\n",
       "    .dataframe tbody tr th {\n",
       "        vertical-align: top;\n",
       "    }\n",
       "\n",
       "    .dataframe thead th {\n",
       "        text-align: right;\n",
       "    }\n",
       "</style>\n",
       "<table border=\"1\" class=\"dataframe\">\n",
       "  <thead>\n",
       "    <tr style=\"text-align: right;\">\n",
       "      <th></th>\n",
       "      <th>missing value count</th>\n",
       "    </tr>\n",
       "  </thead>\n",
       "  <tbody>\n",
       "    <tr>\n",
       "      <th>item_id</th>\n",
       "      <td>0</td>\n",
       "    </tr>\n",
       "    <tr>\n",
       "      <th>category</th>\n",
       "      <td>0</td>\n",
       "    </tr>\n",
       "    <tr>\n",
       "      <th>size</th>\n",
       "      <td>0</td>\n",
       "    </tr>\n",
       "    <tr>\n",
       "      <th>quality</th>\n",
       "      <td>68</td>\n",
       "    </tr>\n",
       "    <tr>\n",
       "      <th>user_name</th>\n",
       "      <td>0</td>\n",
       "    </tr>\n",
       "    <tr>\n",
       "      <th>length</th>\n",
       "      <td>35</td>\n",
       "    </tr>\n",
       "    <tr>\n",
       "      <th>fit</th>\n",
       "      <td>0</td>\n",
       "    </tr>\n",
       "    <tr>\n",
       "      <th>cup size</th>\n",
       "      <td>6255</td>\n",
       "    </tr>\n",
       "    <tr>\n",
       "      <th>user_id</th>\n",
       "      <td>0</td>\n",
       "    </tr>\n",
       "    <tr>\n",
       "      <th>waist</th>\n",
       "      <td>79908</td>\n",
       "    </tr>\n",
       "    <tr>\n",
       "      <th>hips</th>\n",
       "      <td>26726</td>\n",
       "    </tr>\n",
       "    <tr>\n",
       "      <th>bra size</th>\n",
       "      <td>6018</td>\n",
       "    </tr>\n",
       "    <tr>\n",
       "      <th>bust</th>\n",
       "      <td>70936</td>\n",
       "    </tr>\n",
       "    <tr>\n",
       "      <th>height</th>\n",
       "      <td>1107</td>\n",
       "    </tr>\n",
       "    <tr>\n",
       "      <th>shoe size</th>\n",
       "      <td>54875</td>\n",
       "    </tr>\n",
       "    <tr>\n",
       "      <th>shoe width</th>\n",
       "      <td>64183</td>\n",
       "    </tr>\n",
       "    <tr>\n",
       "      <th>review_summary</th>\n",
       "      <td>6725</td>\n",
       "    </tr>\n",
       "    <tr>\n",
       "      <th>review_text</th>\n",
       "      <td>6725</td>\n",
       "    </tr>\n",
       "  </tbody>\n",
       "</table>\n",
       "</div>"
      ],
      "text/plain": [
       "                missing value count\n",
       "item_id                           0\n",
       "category                          0\n",
       "size                              0\n",
       "quality                          68\n",
       "user_name                         0\n",
       "length                           35\n",
       "fit                               0\n",
       "cup size                       6255\n",
       "user_id                           0\n",
       "waist                         79908\n",
       "hips                          26726\n",
       "bra size                       6018\n",
       "bust                          70936\n",
       "height                         1107\n",
       "shoe size                     54875\n",
       "shoe width                    64183\n",
       "review_summary                 6725\n",
       "review_text                    6725"
      ]
     },
     "execution_count": 3,
     "metadata": {},
     "output_type": "execute_result"
    }
   ],
   "source": [
    "missing_values = pd.DataFrame({'missing value count': data.isnull().sum()})\n",
    "missing_values"
   ]
  },
  {
   "cell_type": "code",
   "execution_count": 4,
   "id": "6f11c694",
   "metadata": {},
   "outputs": [],
   "source": [
    "# dropping length tuples\n",
    "missing_tuples = data[data.length.isnull()].index\n",
    "data.drop(missing_tuples, axis = 0, inplace=True)"
   ]
  },
  {
   "cell_type": "code",
   "execution_count": 5,
   "id": "5680b5d8",
   "metadata": {},
   "outputs": [],
   "source": [
    "# dropping quality tuples\n",
    "missing_tuples = data[data.quality.isnull()].index\n",
    "data.drop(missing_tuples, axis = 0, inplace=True)"
   ]
  },
  {
   "cell_type": "code",
   "execution_count": 6,
   "id": "3aa04317",
   "metadata": {},
   "outputs": [],
   "source": [
    "data.review_summary = data.review_summary.fillna('Unknown')\n",
    "data.review_text = data.review_text.fillna('Unknown')"
   ]
  },
  {
   "cell_type": "code",
   "execution_count": 7,
   "id": "0441fe00",
   "metadata": {},
   "outputs": [],
   "source": [
    "data.drop(['waist', 'bust'], axis=1, inplace=True)"
   ]
  },
  {
   "cell_type": "code",
   "execution_count": 8,
   "id": "ed8d997a",
   "metadata": {},
   "outputs": [],
   "source": [
    "# dropping heigth tuples\n",
    "missing_tuples = data[data.height.isnull()].index\n",
    "data.drop(missing_tuples, axis = 0, inplace=True)"
   ]
  },
  {
   "cell_type": "code",
   "execution_count": 9,
   "id": "5de0d527",
   "metadata": {},
   "outputs": [],
   "source": [
    "data.hips = data.hips.fillna(-5)\n",
    "quantiles = [-10,0,31,37,40,44,75]\n",
    "categories = ['Unknown','XS','S','M', 'L','XL']\n",
    "data.hips = pd.cut(data.hips, quantiles, labels=categories)"
   ]
  },
  {
   "cell_type": "code",
   "execution_count": 10,
   "id": "b49bfad3",
   "metadata": {},
   "outputs": [],
   "source": [
    "data['cup size'].fillna('Unknown', inplace=True)\n",
    "data['cup size'] = data['cup size'].astype('category').cat.as_ordered()"
   ]
  },
  {
   "cell_type": "code",
   "execution_count": 11,
   "id": "e24eb842",
   "metadata": {},
   "outputs": [],
   "source": [
    "data['bra size'].fillna((data['bra size'].mean()), inplace=True)"
   ]
  },
  {
   "cell_type": "code",
   "execution_count": 12,
   "id": "f0bdd27e",
   "metadata": {},
   "outputs": [],
   "source": [
    "from pandas.api.types import CategoricalDtype\n",
    "\n",
    "shoe_widths_categories = CategoricalDtype(categories=['Unknown','narrow','average','wide'], ordered=True)\n",
    "data['shoe width'] = data['shoe width'].fillna('Unknown')\n",
    "data['shoe width'] = data['shoe width'].astype(shoe_widths_categories)\n",
    "\n",
    "data['shoe size'] = data['shoe size'].fillna('Unknown')\n",
    "data['shoe size'] = data['shoe size'].astype('category').cat.as_ordered()"
   ]
  },
  {
   "cell_type": "markdown",
   "id": "9b0ae643",
   "metadata": {},
   "source": [
    "Data cleaning:"
   ]
  },
  {
   "cell_type": "code",
   "execution_count": 13,
   "id": "967e5c66",
   "metadata": {},
   "outputs": [],
   "source": [
    "data.category = data.category.astype('category')"
   ]
  },
  {
   "cell_type": "code",
   "execution_count": 14,
   "id": "4af47256",
   "metadata": {},
   "outputs": [
    {
     "data": {
      "text/html": [
       "<div>\n",
       "<style scoped>\n",
       "    .dataframe tbody tr th:only-of-type {\n",
       "        vertical-align: middle;\n",
       "    }\n",
       "\n",
       "    .dataframe tbody tr th {\n",
       "        vertical-align: top;\n",
       "    }\n",
       "\n",
       "    .dataframe thead th {\n",
       "        text-align: right;\n",
       "    }\n",
       "</style>\n",
       "<table border=\"1\" class=\"dataframe\">\n",
       "  <thead>\n",
       "    <tr style=\"text-align: right;\">\n",
       "      <th></th>\n",
       "      <th>item_id</th>\n",
       "      <th>category</th>\n",
       "      <th>size</th>\n",
       "      <th>quality</th>\n",
       "      <th>user_name</th>\n",
       "      <th>length</th>\n",
       "      <th>fit</th>\n",
       "      <th>cup size</th>\n",
       "      <th>user_id</th>\n",
       "      <th>hips</th>\n",
       "      <th>bra size</th>\n",
       "      <th>height</th>\n",
       "      <th>shoe size</th>\n",
       "      <th>shoe width</th>\n",
       "      <th>review_summary</th>\n",
       "      <th>review_text</th>\n",
       "    </tr>\n",
       "  </thead>\n",
       "  <tbody>\n",
       "    <tr>\n",
       "      <th>37313</th>\n",
       "      <td>416942</td>\n",
       "      <td>new</td>\n",
       "      <td>12</td>\n",
       "      <td>5.0</td>\n",
       "      <td>Catslittle</td>\n",
       "      <td>just right</td>\n",
       "      <td>fit</td>\n",
       "      <td>d</td>\n",
       "      <td>237498</td>\n",
       "      <td>XL</td>\n",
       "      <td>36.0</td>\n",
       "      <td>5ft 5in</td>\n",
       "      <td>38.0</td>\n",
       "      <td>average</td>\n",
       "      <td>Cardigans are best item Mod Cloth has</td>\n",
       "      <td>I love these cardigans, my favorite, good fabr...</td>\n",
       "    </tr>\n",
       "  </tbody>\n",
       "</table>\n",
       "</div>"
      ],
      "text/plain": [
       "       item_id category  size  quality   user_name      length  fit cup size  \\\n",
       "37313   416942      new    12      5.0  Catslittle  just right  fit        d   \n",
       "\n",
       "       user_id hips  bra size   height shoe size shoe width  \\\n",
       "37313   237498   XL      36.0  5ft 5in      38.0    average   \n",
       "\n",
       "                              review_summary  \\\n",
       "37313  Cardigans are best item Mod Cloth has   \n",
       "\n",
       "                                             review_text  \n",
       "37313  I love these cardigans, my favorite, good fabr...  "
      ]
     },
     "execution_count": 14,
     "metadata": {},
     "output_type": "execute_result"
    }
   ],
   "source": [
    "data[data['shoe size'] == 38]"
   ]
  },
  {
   "cell_type": "code",
   "execution_count": 15,
   "id": "552c76e7",
   "metadata": {},
   "outputs": [],
   "source": [
    "data.at[37313,'shoe size'] = None"
   ]
  },
  {
   "cell_type": "code",
   "execution_count": 16,
   "id": "c7423b6f",
   "metadata": {},
   "outputs": [],
   "source": [
    "data.fit = data.fit.astype('category')"
   ]
  },
  {
   "cell_type": "code",
   "execution_count": 17,
   "id": "3cb5c449",
   "metadata": {},
   "outputs": [],
   "source": [
    "def parse_height(height):\n",
    "    feet_inches = height.replace('ft','').replace('in','').split(\" \")\n",
    "    if len(feet_inches) == 2:\n",
    "        return inches_to_centimeters(12 * int(feet_inches[0]) + float(feet_inches[1]))\n",
    "    return inches_to_centimeters(12 * int(feet_inches[0]))\n",
    "\n",
    "def inches_to_centimeters(inches):\n",
    "    return 2.54 * inches\n",
    "\n",
    "data.height = data.height.apply(parse_height)"
   ]
  },
  {
   "cell_type": "code",
   "execution_count": 18,
   "id": "f90c4ac0",
   "metadata": {},
   "outputs": [],
   "source": [
    "data.quality = data.quality.astype('category').cat.as_ordered()"
   ]
  },
  {
   "cell_type": "code",
   "execution_count": 19,
   "id": "8c09d85c",
   "metadata": {},
   "outputs": [],
   "source": [
    "data.drop(['user_name'], axis=1, inplace=True)"
   ]
  },
  {
   "cell_type": "code",
   "execution_count": 20,
   "id": "898cf5af",
   "metadata": {},
   "outputs": [
    {
     "name": "stdout",
     "output_type": "stream",
     "text": [
      "<class 'pandas.core.frame.DataFrame'>\n",
      "Int64Index: 81594 entries, 1 to 82789\n",
      "Data columns (total 15 columns):\n",
      " #   Column          Non-Null Count  Dtype   \n",
      "---  ------          --------------  -----   \n",
      " 0   item_id         81594 non-null  int64   \n",
      " 1   category        81594 non-null  category\n",
      " 2   size            81594 non-null  int64   \n",
      " 3   quality         81594 non-null  category\n",
      " 4   length          81594 non-null  object  \n",
      " 5   fit             81594 non-null  category\n",
      " 6   cup size        81594 non-null  category\n",
      " 7   user_id         81594 non-null  int64   \n",
      " 8   hips            81594 non-null  category\n",
      " 9   bra size        81594 non-null  float64 \n",
      " 10  height          81594 non-null  float64 \n",
      " 11  shoe size       81593 non-null  category\n",
      " 12  shoe width      81594 non-null  category\n",
      " 13  review_summary  81594 non-null  object  \n",
      " 14  review_text     81594 non-null  object  \n",
      "dtypes: category(7), float64(2), int64(3), object(3)\n",
      "memory usage: 8.2+ MB\n"
     ]
    }
   ],
   "source": [
    "data.info()"
   ]
  },
  {
   "cell_type": "markdown",
   "id": "58aef1cf",
   "metadata": {},
   "source": [
    "d."
   ]
  },
  {
   "cell_type": "code",
   "execution_count": 21,
   "id": "19c2d2d6",
   "metadata": {},
   "outputs": [
    {
     "data": {
      "image/png": "[encoded data removed]",
      "text/plain": [
       "<Figure size 2000x1000 with 1 Axes>"
      ]
     },
     "metadata": {},
     "output_type": "display_data"
    }
   ],
   "source": [
    "plt.figure(figsize=(20,10))\n",
    "numerical_variables = ['bra size','height','size']\n",
    "data[numerical_variables].boxplot()\n",
    "plt.show()"
   ]
  },
  {
   "cell_type": "markdown",
   "id": "b4883992",
   "metadata": {},
   "source": [
    "e."
   ]
  },
  {
   "cell_type": "code",
   "execution_count": 22,
   "id": "0d8c2368",
   "metadata": {},
   "outputs": [
    {
     "data": {
      "text/plain": [
       "<AxesSubplot:title={'center':'Distribution of cup size'}>"
      ]
     },
     "execution_count": 22,
     "metadata": {},
     "output_type": "execute_result"
    },
    {
     "data": {
      "image/png": "[encoded data removed]",
      "text/plain": [
       "<Figure size 1000x500 with 1 Axes>"
      ]
     },
     "metadata": {},
     "output_type": "display_data"
    }
   ],
   "source": [
    "data['cup size'].value_counts().plot(kind='bar',figsize=(10, 5), fontsize = 10, title = \"Distribution of cup size\")"
   ]
  },
  {
   "cell_type": "code",
   "execution_count": 23,
   "id": "3bdfa96c",
   "metadata": {},
   "outputs": [
    {
     "data": {
      "text/plain": [
       "<AxesSubplot:title={'center':'Distribution of fit'}>"
      ]
     },
     "execution_count": 23,
     "metadata": {},
     "output_type": "execute_result"
    },
    {
     "data": {
      "image/png": "[encoded data removed]",
      "text/plain": [
       "<Figure size 1000x500 with 1 Axes>"
      ]
     },
     "metadata": {},
     "output_type": "display_data"
    }
   ],
   "source": [
    "data.fit.value_counts().plot(kind='bar',figsize=(10, 5), fontsize = 10, title = \"Distribution of fit\")"
   ]
  },
  {
   "cell_type": "code",
   "execution_count": 24,
   "id": "5207fe8b",
   "metadata": {},
   "outputs": [
    {
     "data": {
      "text/plain": [
       "<AxesSubplot:title={'center':'Distribution of quality'}>"
      ]
     },
     "execution_count": 24,
     "metadata": {},
     "output_type": "execute_result"
    },
    {
     "data": {
      "image/png": "[encoded data removed]",
      "text/plain": [
       "<Figure size 1000x500 with 1 Axes>"
      ]
     },
     "metadata": {},
     "output_type": "display_data"
    }
   ],
   "source": [
    "data.quality.value_counts().plot(kind='bar',figsize=(10, 5), fontsize = 10, title = \"Distribution of quality\")"
   ]
  },
  {
   "cell_type": "markdown",
   "id": "32b21170",
   "metadata": {},
   "source": [
    "f."
   ]
  },
  {
   "cell_type": "code",
   "execution_count": 25,
   "id": "e103031b",
   "metadata": {
    "scrolled": false
   },
   "outputs": [
    {
     "data": {
      "image/png": "[encoded data removed]",
      "text/plain": [
       "<Figure size 900x1000 with 1 Axes>"
      ]
     },
     "metadata": {},
     "output_type": "display_data"
    }
   ],
   "source": [
    "categories = data.groupby('category')\n",
    "categories_length = categories['length'].value_counts()\n",
    "categories_length = categories_length.unstack()\n",
    "categories_length.plot.barh(figsize=(9, 10), fontsize = 10, title = \"Category VS Length-Feedback\")\n",
    "fig = plt.gcf()"
   ]
  }
 ],
 "metadata": {
  "kernelspec": {
   "display_name": "Python 3 (ipykernel)",
   "language": "python",
   "name": "python3"
  },
  "language_info": {
   "codemirror_mode": {
    "name": "ipython",
    "version": 3
   },
   "file_extension": ".py",
   "mimetype": "text/x-python",
   "name": "python",
   "nbconvert_exporter": "python",
   "pygments_lexer": "ipython3",
   "version": "3.9.13"
  }
 },
 "nbformat": 4,
 "nbformat_minor": 5
}
